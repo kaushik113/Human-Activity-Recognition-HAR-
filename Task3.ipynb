{
 "cells": [
  {
   "cell_type": "code",
   "execution_count": 1,
   "metadata": {},
   "outputs": [],
   "source": [
    "import pandas as pd \n",
    "import numpy as np\n",
    "from langchain_groq.chat_models import ChatGroq\n",
    "\n",
    "from sklearn.tree import DecisionTreeClassifier\n",
    "from sklearn.model_selection import train_test_split\n",
    "from sklearn.metrics import accuracy_score"
   ]
  },
  {
   "cell_type": "code",
   "execution_count": 9,
   "metadata": {},
   "outputs": [],
   "source": [
    "from dotenv import load_dotenv\n",
    "import os\n",
    "\n",
    "# Load the environment variables from the .env file\n",
    "load_dotenv()\n",
    "\n",
    "# Access the API key\n",
    "Groq_token = os.getenv('GROQ_API_KEY')\n",
    "\n",
    "groq_models = {\"llama3-70b\": \"llama3-70b-8192\", \"mixtral\": \"mixtral-8x7b-32768\", \"gemma-7b\": \"gemma-7b-it\",\"llama3.1-70b\":\"llama-3.1-70b-versatile\",\"llama3-8b\":\"llama3-8b-8192\",\"llama3.1-8b\":\"llama-3.1-8b-instant\",\"gemma-9b\":\"gemma2-9b-it\"}\n"
   ]
  },
  {
   "cell_type": "markdown",
   "metadata": {},
   "source": [
    "**NOTE : DO NOT SHARE THE API KEY WITH ANYONE. DO NOT COMMIT THE API KEY TO GITHUB.**\n",
    "\n",
    "Always do a sanity check before committing the code to github. If the key is found in the code, you will be penalized with a 0.5 marks deduction."
   ]
  },
  {
   "cell_type": "markdown",
   "metadata": {},
   "source": [
    "# Zero Shot "
   ]
  },
  {
   "cell_type": "code",
   "execution_count": 11,
   "metadata": {},
   "outputs": [
    {
     "name": "stdout",
     "output_type": "stream",
     "text": [
      "Zero Shot Learning Accuracy: 0.2222222222222222\n"
     ]
    }
   ],
   "source": [
    "\"\"\"Demonstrate how to use Zero-Shot Learning and Few-Shot Learning to classify human activities \n",
    "based on the featurized accelerometer data\"\"\"\n",
    "\n",
    "# Load the dataset\n",
    "data = pd.read_csv(\"data.csv\").iloc[:90000:10000,:]\n",
    "\n",
    "X= data.drop(['subject','activity'],axis=1)\n",
    "y= data['activity']\n",
    "\n",
    "\"\"\"Zero Shot Learning\"\"\"\n",
    "\n",
    "# System Prompts \n",
    "query = f\"\"\"\n",
    "* You are a machine learning classsifier model(Real Input Discrete output). \n",
    "* Based on the accerlerometer values(accx, accy, accz) you have to predict the human activity.\n",
    "* Activities can be among the following: Walking, Walking_Upstairs, Walking_Downstairs, Sitting, Standing, Laying.\n",
    "* activity_labels = [\"WALKING\":1,\"WALKING_UPSTAIRS\":2,\"WALKING_DOWNSTAIRS\":3,\"SITTING\":4,\"STANDING\":5,\"LAYING\":6]\n",
    "* The dataset is in the following format: {X}\n",
    "* You have predict the human activity for every row in the X_train dataset.\n",
    "\n",
    "*PS: Just give the prediction array for the given dataset without any explanation or anything above or below it.\n",
    "*PS: Ensure that the predicted array is of the length = {len(X)} only.\n",
    "\"\"\" \n",
    "\n",
    "# To use Groq LLMs \n",
    "model_name = \"llama3.1-70b\" # We can choose any model from the groq_models dictionary\n",
    "llm = ChatGroq(model=groq_models[model_name], api_key=Groq_token, temperature=0)\n",
    "zero_shot_answer = llm.invoke(query).content\n",
    "\n",
    "\n",
    "\"\"\"Acccuracy of Zero Shot Learning\"\"\"\n",
    "\n",
    "str= zero_shot_answer.strip(\"[]\").split(\",\")\n",
    "str_not_null= [i for i in str if i !=\" \"]\n",
    "y_pred= np.array([int(i) for i in str_not_null])\n",
    "\n",
    "# print(f\"len(y): {len(y)}, len(y_pred): {len(y_pred)}\")\n",
    "\n",
    "if len(y) == len(y_pred):\n",
    "    zero_shot_accuracy_score = accuracy_score(y, y_pred)\n",
    "    print(f\"Zero Shot Learning Accuracy: {zero_shot_accuracy_score}\")\n",
    "else:\n",
    "    print(\"The accuracy of the Zero Shot Learning model could not be calculated since the model did not provide the prediction array in the correct format.\")"
   ]
  },
  {
   "cell_type": "markdown",
   "metadata": {},
   "source": [
    "# Few Shot"
   ]
  },
  {
   "cell_type": "code",
   "execution_count": 13,
   "metadata": {},
   "outputs": [
    {
     "name": "stdout",
     "output_type": "stream",
     "text": [
      "Few Shot Learning Accuracy: 0.6666666666666666\n"
     ]
    }
   ],
   "source": [
    "# Load the dataset\n",
    "data = pd.read_csv(\"data.csv\").iloc[:90000:9000,:]\n",
    "\n",
    "X= data.drop(['subject','activity'],axis=1)\n",
    "y= data['activity']\n",
    "X_train, X_test, y_train, y_test= train_test_split(X,y, test_size=0.3, random_state=42)\n",
    "\n",
    "\"\"\"Few Shot Learning\"\"\"\n",
    "\n",
    "# System Prompts \n",
    "query = f\"\"\"\n",
    "* You are a machine learning classsifier model(Real Input Discrete output). \n",
    "* Based on the accerlerometer values(accx, accy, accz) you have to predict the human activity.\n",
    "* Activities can be among the following: Walking, Walking_Upstairs, Walking_Downstairs, Sitting, Standing, Laying.\n",
    "* activity_labels = [\"WALKING\":1,\"WALKING_UPSTAIRS\":2,\"WALKING_DOWNSTAIRS\":3,\"SITTING\":4,\"STANDING\":5,\"LAYING\":6]\n",
    "* You have predict the human activity for every row input in the X_test dataset and output the corresponding activity_label.\n",
    "\n",
    "* You have been trained on the following dataset:\n",
    "* Training Dataset: {X_train}\n",
    "* Training Labels: {y_train}\n",
    "\n",
    "* The test dataset is in the following format: {X_test}\n",
    "\n",
    "*PS: Only give out the prediction array for the given dataset without any explanation without anything above or below it.\n",
    "*PS: Ensure that the prediction array is of the same length as the test dataset.\n",
    "\"\"\" \n",
    "\n",
    "# To use Groq LLMs \n",
    "model_name = \"llama3-70b\" # We can choose any model from the groq_models dictionary\n",
    "llm = ChatGroq(model=groq_models[model_name], api_key=Groq_token, temperature=0)\n",
    "few_shot_answer = llm.invoke(query).content\n",
    "\n",
    "\n",
    "\n",
    "\"\"\" Acccuracy of Few Shot Learning\"\"\"\n",
    "\n",
    "str= few_shot_answer.strip(\"[]\").split(\",\")\n",
    "str_not_null= [i for i in str if i !=\" \"]\n",
    "y_pred= np.array([int(i) for i in str_not_null])\n",
    "\n",
    "# print(f\"len(y_test): {len(y_test)}, len(y_pred): {len(y_pred)}\")\n",
    "\n",
    "if len(y_test) == len(y_pred):\n",
    "    few_shot_accuracy_score = accuracy_score(y_test, y_pred)\n",
    "    print(f\"Few Shot Learning Accuracy: {few_shot_accuracy_score}\")\n",
    "else:\n",
    "    print(\"The accuracy of the Few Shot Learning model could not be calculated since the model did not provide the prediction array in the correct format.\")"
   ]
  },
  {
   "cell_type": "raw",
   "metadata": {
    "vscode": {
     "languageId": "raw"
    }
   },
   "source": [
    "Q. Qualitatively demonstrate the performance of Few-Shot Learning with Zero-Shot Learning. \n",
    "Which method performs better? Why?\n",
    "In general, Few-Shot Learning should perform better than Zero-Shot Learning because it has\n",
    " seen some examples of the target classes, allowing it to adapt better to the specific task. \n",
    " However, the performance difference can vary depending on the complexity of the task and the \n",
    " quality of the few-shot examples provided."
   ]
  },
  {
   "cell_type": "code",
   "execution_count": 14,
   "metadata": {},
   "outputs": [
    {
     "name": "stdout",
     "output_type": "stream",
     "text": [
      "Compare the Few Shot accuracy with Sklearn Decision Tree accuracy\n",
      "\n",
      "Few Shot Learning Accuracy: 0.67\n",
      "Decision Tree model Accuracy: 0.71\n",
      "Decision Tree Classifier works better than Few Shot LLM model for this dataset \n",
      "But both the models have comparable accuracy.\n",
      "      Some Advantages of Few Shot LLM model are:\n",
      "        1. Leverage Large Amount of data from the internet\n",
      "        2. Have a better physical understanding of the data and its underlying meaning.\n",
      "        3. Can be used for a wide range of general tasks.\n",
      "      \n",
      "      Some Advantages of Decision Tree Classifier are:\n",
      "        1. Hpyerparameters can be tuned to improve the accuracy.\n",
      "        2. Works best for complex tasks/datasets with a lot of non-standard features.\n",
      "      \n"
     ]
    }
   ],
   "source": [
    "\"\"\"Compare Few Shot accuracy with Sklearn Decision Tree accuracy\"\"\"\n",
    "\n",
    "data= pd.read_csv(\"data.csv\")\n",
    "\n",
    "\"\"\"Train a decision tree model using the raw accelerometer data\"\"\"\n",
    "X= data.drop(['subject','activity'],axis=1)\n",
    "y= data['activity']\n",
    "\n",
    "X_train, X_test, y_train, y_test = train_test_split(X, y, test_size=0.3, random_state=42)\n",
    "\n",
    "decision_tree_model= DecisionTreeClassifier(random_state=42)\n",
    "\n",
    "decision_tree_model.fit(X_train, y_train)\n",
    "\n",
    "y_pred= decision_tree_model.predict(X_test)     # a row vector numpy array\n",
    "y_pred= pd.Series(y_pred)                       # convert to pandas series\n",
    "\n",
    "acc= accuracy_score(y_pred, y_test)\n",
    "\n",
    "print(\"Compare the Few Shot accuracy with Sklearn Decision Tree accuracy\\n\")\n",
    "print(f\"Few Shot Learning Accuracy: {few_shot_accuracy_score:.2f}\")\n",
    "print(f\"Decision Tree model Accuracy: {acc:.2f}\")\n",
    "print(\"\"\"Decision Tree Classifier works better than Few Shot LLM model for this dataset \n",
    "But both the models have comparable accuracy.\n",
    "      Some Advantages of Few Shot LLM model are:\n",
    "        1. Leverage Large Amount of data from the internet\n",
    "        2. Have a better physical understanding of the data and its underlying meaning.\n",
    "        3. Can be used for a wide range of general tasks.\n",
    "      \n",
    "      Some Advantages of Decision Tree Classifier are:\n",
    "        1. Hpyerparameters can be tuned to improve the accuracy.\n",
    "        2. Works best for complex tasks/datasets with a lot of non-standard features.\n",
    "      \"\"\")\n"
   ]
  },
  {
   "cell_type": "raw",
   "metadata": {
    "vscode": {
     "languageId": "raw"
    }
   },
   "source": [
    "Q. What are the limitations of Zero-Shot Learning and Few-Shot Learning in the context\n",
    "     of classifying human activities based on featurized accelerometer data?\n",
    "A. Zero-Shot Learning (ZSL) and Few-Shot Learning (FSL) are powerful techniques, \n",
    "    but they come with their own set of limitations, especially in the context of classifying human activities\n",
    "    based on featurized accelerometer data.\n",
    "\n",
    " Zero-Shot Learning:\n",
    "    1. Lack of Training Data: ZSL models rely on general knowledge and may not have specific information\n",
    "    about the target classes, leading to lower accuracy.\n",
    "    2. Contextual Understanding: ZSL models may struggle to understand the context of activities, \n",
    "    especially if the activities are complex or involve subtle differences. \n",
    "    3. Feature data: ZSL models require well-defined standard features whose data is widely available. \n",
    "    ZSL models dont perform well with new domain-specific non-standard features.\n",
    "\n",
    " Few-Shot Learning:\n",
    "    1. Overfitting: FSL models may overfit the limited training data, especially if the data is noisy or unrepresentative.\n",
    "    2. Class Imbalance: FSL models may struggle with class imbalance, as the few-shot classes may not have enough representative samples."
   ]
  },
  {
   "cell_type": "code",
   "execution_count": 15,
   "metadata": {},
   "outputs": [
    {
     "name": "stdout",
     "output_type": "stream",
     "text": [
      "Accelerometer data for the new activity: [0.1 0.2 0.3]\n",
      "The model classified the new activity as: WALKING\n"
     ]
    }
   ],
   "source": [
    "\"\"\"What does the model classify when given input from an entirely new activity that it hasn't seen before?\"\"\"\n",
    "\n",
    "# Let us assume that the new activity is \"Jogging\"\n",
    "new_activity_data= np.array([0.1, 0.2, 0.3])\n",
    "\n",
    "\"\"\"Few Shot Learning\"\"\"\n",
    "# System Prompts \n",
    "query = f\"\"\"\n",
    "* You are a machine learning classsifier model(Real Input Discrete output). \n",
    "* Based on the accerlerometer values(accx, accy, accz) you have to predict the human activity.\n",
    "* Activities can be among the following: Walking, Walking_Upstairs, Walking_Downstairs, Sitting, Standing, Laying.\n",
    "* activity_labels = [\"WALKING\":1,\"WALKING_UPSTAIRS\":2,\"WALKING_DOWNSTAIRS\":3,\"SITTING\":4,\"STANDING\":5,\"LAYING\":6]\n",
    "\n",
    "* You have been trained on the following dataset:\n",
    "* Training Dataset: {X_train}\n",
    "* Training Labels: {y_train}\n",
    "\n",
    "* The test dataset is in the following format: {new_activity_data}\n",
    "\n",
    "* You have to predict the human activity for the new activity data.\n",
    "* Kindly output only the activity name and nothing below or above it.\n",
    "\"\"\" \n",
    "\n",
    "# To use Groq LLMs \n",
    "model_name = \"llama3-70b\" # We can choose any model from the groq_models dictionary\n",
    "llm = ChatGroq(model=groq_models[model_name], api_key=Groq_token, temperature=0)\n",
    "few_shot_answer = llm.invoke(query).content\n",
    "\n",
    "print(f\"Accelerometer data for the new activity: {new_activity_data}\")\n",
    "print(f\"The model classified the new activity as: {few_shot_answer}\")"
   ]
  },
  {
   "cell_type": "code",
   "execution_count": 16,
   "metadata": {},
   "outputs": [
    {
     "name": "stdout",
     "output_type": "stream",
     "text": [
      "Few Shot Learning Accuracy: 0.1\n"
     ]
    }
   ],
   "source": [
    "\"\"\"\"Test a Few Shot Model with Random Data\"\"\"\n",
    "\n",
    "# Load the dataset\n",
    "data = pd.read_csv(\"data.csv\").iloc[:90000:9000,:]\n",
    "\n",
    "X_train= data.drop(['subject','activity'],axis=1)\n",
    "y_train= data['activity']\n",
    "\n",
    "X_test= np.random.rand(10,3)\n",
    "y_test= np.random.randint(1,7,10)\n",
    "\n",
    "\n",
    "\"\"\"Few Shot Learning\"\"\"\n",
    "# System Prompts \n",
    "query = f\"\"\"\n",
    "* You are a machine learning classsifier model(Real Input Discrete output). \n",
    "* Based on the accerlerometer values(accx, accy, accz) you have to predict the human activity.\n",
    "* Activities can be among the following: Walking, Walking_Upstairs, Walking_Downstairs, Sitting, Standing, Laying.\n",
    "* activity_labels = [\"WALKING\":1,\"WALKING_UPSTAIRS\":2,\"WALKING_DOWNSTAIRS\":3,\"SITTING\":4,\"STANDING\":5,\"LAYING\":6]\n",
    "\n",
    "* You have been trained on the following dataset:\n",
    "* Training Dataset: {X_train}\n",
    "* Training Labels: {y_train}\n",
    "\n",
    "* The test dataset is in the following format: {X_test}\n",
    "\n",
    "*PS: Only give out the prediction array for the given dataset without any explanation without anything above or below it.\n",
    "*PS: Ensure that the prediction array is of the same length as the test dataset.\n",
    "\"\"\" \n",
    "\n",
    "# To use Groq LLMs \n",
    "model_name = \"llama3-70b\" # We can choose any model from the groq_models dictionary\n",
    "llm = ChatGroq(model=groq_models[model_name], api_key=Groq_token, temperature=0)\n",
    "few_shot_answer = llm.invoke(query).content\n",
    "\n",
    "\n",
    "\"\"\" Acccuracy of Few Shot Learning tested on Random Data\"\"\"\n",
    "str= few_shot_answer.strip(\"[]\").split(\",\")\n",
    "str_not_null= [i for i in str if i !=\" \"]\n",
    "y_pred= np.array([int(i) for i in str_not_null])\n",
    "\n",
    "if len(y_test) == len(y_pred):\n",
    "    few_shot_accuracy_score = accuracy_score(y_test, y_pred)\n",
    "    print(f\"Few Shot Learning Accuracy: {few_shot_accuracy_score}\")\n",
    "else:\n",
    "    print(\"The accuracy of the Few Shot Learning model could not be calculated since the model did not provide the prediction array in the correct format.\")"
   ]
  },
  {
   "cell_type": "code",
   "execution_count": null,
   "metadata": {},
   "outputs": [],
   "source": []
  }
 ],
 "metadata": {
  "kernelspec": {
   "display_name": "Python 3",
   "language": "python",
   "name": "python3"
  },
  "language_info": {
   "codemirror_mode": {
    "name": "ipython",
    "version": 3
   },
   "file_extension": ".py",
   "mimetype": "text/x-python",
   "name": "python",
   "nbconvert_exporter": "python",
   "pygments_lexer": "ipython3",
   "version": "3.11.0"
  }
 },
 "nbformat": 4,
 "nbformat_minor": 2
}
